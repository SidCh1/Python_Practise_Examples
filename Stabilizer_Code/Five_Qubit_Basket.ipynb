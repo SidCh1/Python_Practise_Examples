{
 "cells": [
  {
   "cell_type": "markdown",
   "id": "864195cc",
   "metadata": {},
   "source": [
    "### 🧠 Try It Yourself: Pauli String Classifier for the 5-Qubit Code\n",
    "\n",
    "Type in any 5-letter Pauli string (using only I, X, Y, Z). This cell will tell you whether it's:\n",
    "\n",
    "- A **Stabilizer**,\n",
    "- A **Logical Operator**, or\n",
    "- An **Error (Destabilizer)**,\n",
    "\n",
    "...based on the perfect 5-qubit quantum error correction code.\n"
   ]
  },
  {
   "cell_type": "code",
   "execution_count": 5,
   "id": "99af4691",
   "metadata": {},
   "outputs": [
    {
     "name": "stdout",
     "output_type": "stream",
     "text": [
      "XYXZI is an Error Operator (Destabilizer).\n"
     ]
    }
   ],
   "source": [
    "import itertools\n",
    "\n",
    "# --- Pauli operators ---\n",
    "PAULIS = ['I', 'X', 'Y', 'Z']\n",
    "\n",
    "# --- Stabilizer generators for the 5-qubit code ---\n",
    "generators = [\n",
    "    \"XZZXI\",\n",
    "    \"IXZZX\",\n",
    "    \"XIXZZ\",\n",
    "    \"ZXIXZ\"\n",
    "]\n",
    "\n",
    "# --- Logical operators (standard representatives) ---\n",
    "logical_operators = {\"XXXXX\", \"ZZZZZ\"}\n",
    "\n",
    "# --- Pauli commutation table ---\n",
    "def pauli_commute(p1, p2):\n",
    "    \"\"\"Returns True if two Pauli strings commute (ignoring global phase).\"\"\"\n",
    "    comm_table = {\n",
    "        ('I', 'I'): True, ('I', 'X'): True, ('I', 'Y'): True, ('I', 'Z'): True,\n",
    "        ('X', 'I'): True, ('X', 'X'): True, ('X', 'Y'): False, ('X', 'Z'): False,\n",
    "        ('Y', 'I'): True, ('Y', 'X'): False, ('Y', 'Y'): True, ('Y', 'Z'): False,\n",
    "        ('Z', 'I'): True, ('Z', 'X'): False, ('Z', 'Y'): False, ('Z', 'Z'): True\n",
    "    }\n",
    "    return all(comm_table[(a, b)] for a, b in zip(p1, p2))\n",
    "\n",
    "# --- Pauli multiplication rules ignoring phase ---\n",
    "def pauli_multiply(p1, p2):\n",
    "    mult_table = {\n",
    "        ('I', 'I'): 'I', ('I', 'X'): 'X', ('I', 'Y'): 'Y', ('I', 'Z'): 'Z',\n",
    "        ('X', 'I'): 'X', ('X', 'X'): 'I', ('X', 'Y'): 'Z', ('X', 'Z'): 'Y',\n",
    "        ('Y', 'I'): 'Y', ('Y', 'X'): 'Z', ('Y', 'Y'): 'I', ('Y', 'Z'): 'X',\n",
    "        ('Z', 'I'): 'Z', ('Z', 'X'): 'Y', ('Z', 'Y'): 'X', ('Z', 'Z'): 'I',\n",
    "    }\n",
    "    return [mult_table[(a, b)] for a, b in zip(p1, p2)]\n",
    "\n",
    "# --- Generate the full stabilizer group from generators ---\n",
    "def generate_stabilizer_group(gens):\n",
    "    group = set()\n",
    "    for bits in itertools.product([0, 1], repeat=len(gens)):\n",
    "        op = ['I'] * 5\n",
    "        for i, bit in enumerate(bits):\n",
    "            if bit:\n",
    "                op = pauli_multiply(op, gens[i])\n",
    "        group.add(''.join(op))\n",
    "    return group\n",
    "\n",
    "# --- Classify a Pauli string ---\n",
    "def classify_pauli(pauli_str):\n",
    "    pauli_str = pauli_str.upper().strip()\n",
    "    if len(pauli_str) != 5 or any(p not in PAULIS for p in pauli_str):\n",
    "        return \"Invalid input. Please enter a 5-letter Pauli string using I, X, Y, Z.\"\n",
    "\n",
    "    stabilizer_group = generate_stabilizer_group(generators)\n",
    "\n",
    "    if pauli_str in stabilizer_group:\n",
    "        return f\"{pauli_str} is a Stabilizer.\"\n",
    "\n",
    "    if all(pauli_commute(pauli_str, g) for g in generators):\n",
    "        if pauli_str in logical_operators:\n",
    "            return f\"{pauli_str} is a Logical Operator.\"\n",
    "        else:\n",
    "            return f\"{pauli_str} commutes with all stabilizers — it's a Logical Operator (or a multiple of one).\"\n",
    "\n",
    "    return f\"{pauli_str} is an Error Operator (Destabilizer).\"\n",
    "\n",
    "# --- Interactive input for Jupyter ---\n",
    "user_input = input(\"Enter a 5-letter Pauli string (e.g. XYZZI): \")\n",
    "print(classify_pauli(user_input))\n"
   ]
  },
  {
   "cell_type": "code",
   "execution_count": null,
   "id": "fc26895d",
   "metadata": {},
   "outputs": [],
   "source": []
  }
 ],
 "metadata": {
  "kernelspec": {
   "display_name": "pennyLane-env",
   "language": "python",
   "name": "python3"
  },
  "language_info": {
   "codemirror_mode": {
    "name": "ipython",
    "version": 3
   },
   "file_extension": ".py",
   "mimetype": "text/x-python",
   "name": "python",
   "nbconvert_exporter": "python",
   "pygments_lexer": "ipython3",
   "version": "3.12.0"
  }
 },
 "nbformat": 4,
 "nbformat_minor": 5
}
