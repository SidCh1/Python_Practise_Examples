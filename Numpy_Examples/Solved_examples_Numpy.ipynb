{
 "cells": [
  {
   "cell_type": "code",
   "execution_count": 2,
   "metadata": {},
   "outputs": [],
   "source": [
    "import numpy as np"
   ]
  },
  {
   "cell_type": "code",
   "execution_count": 2,
   "metadata": {},
   "outputs": [
    {
     "name": "stdout",
     "output_type": "stream",
     "text": [
      "1.26.2\n"
     ]
    }
   ],
   "source": [
    "# Question 1 : Import numpy as np and see the version\n",
    "\n",
    "print(np.__version__)\n"
   ]
  },
  {
   "cell_type": "code",
   "execution_count": null,
   "metadata": {},
   "outputs": [],
   "source": [
    "# Question 2 : Create a 1D array of numbers from 0 to 9\n",
    "# Output : #> array([0, 1, 2, 3, 4, 5, 6, 7, 8, 9])\n",
    "\n",
    "arr0 = np.arange(10)\n",
    "# array = np.arange(1, 11)  # start and stop\n",
    "# array = np.arange(1, 10, 2)  # In steps of 2\n",
    "print(arr0)"
   ]
  },
  {
   "cell_type": "code",
   "execution_count": null,
   "metadata": {},
   "outputs": [],
   "source": [
    "# Question 3: Create a 3×3 numpy array of all True’s\n",
    "\n",
    "# arr = np.array([[1, 2, 3], [3, 4, 5], [6, 7, 8]])\n",
    "arr1 = np.full((3, 3), True, dtype=bool)\n",
    "print(arr1)\n",
    "\n",
    "# or\n",
    "# np.full((9), True, dtype=bool).reshape(3,3)\n",
    "\n",
    "# or\n",
    "# np.ones((3,3), dtype=bool)\n",
    "\n",
    "# or\n",
    "# np.ones((9), dtype=bool).reshape(3,3)"
   ]
  },
  {
   "cell_type": "code",
   "execution_count": null,
   "metadata": {},
   "outputs": [],
   "source": [
    "# Question 4: Extract all odd numbers from array\n",
    "# input: arr = np.array([0, 1, 2, 3, 4, 5, 6, 7, 8, 9])\n",
    "# output: array([1, 3, 5, 7, 9])\n",
    "\n",
    "arr2 = np.arange(10)\n",
    "\n",
    "arr3 = []\n",
    "for arr in arr2:\n",
    "    if arr % 2 != 0:\n",
    "        arr3.append(arr)\n",
    "print(arr3)\n",
    "\n",
    "# or\n",
    "# arr[arr % 2 == 1]"
   ]
  },
  {
   "cell_type": "code",
   "execution_count": null,
   "metadata": {},
   "outputs": [],
   "source": [
    "# Question 5: Replace all odd numbers in arr with -1\n",
    "# input: arr = np.array([0, 1, 2, 3, 4, 5, 6, 7, 8, 9])\n",
    "# output: array([ 0, -1,  2, -1,  4, -1,  6, -1,  8, -1])\n",
    "\n",
    "arr4 = np.arange(10)\n",
    "\n",
    "# for arr in arr4:\n",
    "#     if arr % 2 != 0:\n",
    "#         arr4[arr] = -1\n",
    "# print(arr4)\n",
    "\n",
    "arr4[arr4 %2 == 1] = -1\n",
    "arr4\n"
   ]
  },
  {
   "cell_type": "code",
   "execution_count": 9,
   "metadata": {},
   "outputs": [
    {
     "name": "stdout",
     "output_type": "stream",
     "text": [
      "Modified Array\n",
      "\n",
      "Original Array\n"
     ]
    },
    {
     "data": {
      "text/plain": [
       "array([0, 1, 2, 3, 4, 5, 6, 7, 8, 9])"
      ]
     },
     "execution_count": 9,
     "metadata": {},
     "output_type": "execute_result"
    }
   ],
   "source": [
    "# Question 6: Replace all odd numbers in arr with -1 without changing arr\n",
    "# input: arr = np.array([0, 1, 2, 3, 4, 5, 6, 7, 8, 9])\n",
    "# output: out\n",
    "# array([ 0, -1,  2, -1,  4, -1,  6, -1,  8, -1])\n",
    "# arr\n",
    "# array([0, 1, 2, 3, 4, 5, 6, 7, 8, 9])\n",
    "\n",
    "arr5 = np.arange(10)\n",
    "\n",
    "out = arr5.copy()\n",
    "\n",
    "out[out%2 == 1] = -1\n",
    "\n",
    "print('Modified Array')\n",
    "out\n",
    "\n",
    "print('\\nOriginal Array')\n",
    "arr5"
   ]
  },
  {
   "cell_type": "code",
   "execution_count": 21,
   "metadata": {},
   "outputs": [
    {
     "name": "stdout",
     "output_type": "stream",
     "text": [
      "[0 1 2 3 4 5 6 7 8 9]\n",
      "[[0 1 2 3 4]\n",
      " [5 6 7 8 9]]\n",
      "[[0 1 2 3 4]\n",
      " [5 6 7 8 9]]\n"
     ]
    }
   ],
   "source": [
    "# Question 7: Convert a 1D array to a 2D array with 2 rows\n",
    "# input: np.arange(10)\n",
    "# output array([[0, 1, 2, 3, 4],\n",
    "#               [5, 6, 7, 8, 9]])\n",
    "\n",
    "arr6 = np.arange(10)\n",
    "print(arr6)\n",
    "\n",
    "arr7 = np.resize(arr6,(2,5))\n",
    "print(arr7)\n",
    "\n",
    "arr8 = arr6.reshape(2,5)\n",
    "print(arr8)"
   ]
  },
  {
   "cell_type": "code",
   "execution_count": 31,
   "metadata": {},
   "outputs": [
    {
     "data": {
      "text/plain": [
       "array([[0, 1, 2, 3, 4],\n",
       "       [5, 6, 7, 8, 9],\n",
       "       [1, 1, 1, 1, 1],\n",
       "       [1, 1, 1, 1, 1]])"
      ]
     },
     "execution_count": 31,
     "metadata": {},
     "output_type": "execute_result"
    }
   ],
   "source": [
    "# Question 8: Stack arrays a and b vertically\n",
    "# input: a = np.arange(10).reshape(2,-1)\n",
    "#        b = np.repeat(1, 10).reshape(2,-1)\n",
    "\n",
    "# output: array([[0, 1, 2, 3, 4],\n",
    "#                [5, 6, 7, 8, 9],\n",
    "#                [1, 1, 1, 1, 1],\n",
    "#                [1, 1, 1, 1, 1]])\n",
    "\n",
    "# a = np.arange(10).reshape(2,-1)\n",
    "# b = np.repeat(1, 10).reshape(2,-1)\n",
    "\n",
    "a = np.arange(10).reshape(2,-1) # -1 indicates that choose the cols automatically.\n",
    "b = np.repeat(1, 10).reshape(2,-1) \n",
    "\n",
    "c = np.vstack([a,b]) # vstack is vertical stack\n",
    "c\n",
    "\n"
   ]
  },
  {
   "cell_type": "code",
   "execution_count": 32,
   "metadata": {},
   "outputs": [
    {
     "data": {
      "text/plain": [
       "array([[0, 1, 2, 3, 4, 1, 1, 1, 1, 1],\n",
       "       [5, 6, 7, 8, 9, 1, 1, 1, 1, 1]])"
      ]
     },
     "execution_count": 32,
     "metadata": {},
     "output_type": "execute_result"
    }
   ],
   "source": [
    "# Question 9: Stack the arrays a and b horizontally.\n",
    "\n",
    "# Input: a = np.arange(10).reshape(2,-1)\n",
    "#        b = np.repeat(1, 10).reshape(2,-1)\n",
    "# Output: array([[0, 1, 2, 3, 4, 1, 1, 1, 1, 1],\n",
    "#                [5, 6, 7, 8, 9, 1, 1, 1, 1, 1]])\n",
    "\n",
    "\n",
    "# Solution:\n",
    "a = np.arange(10).reshape(2,-1)\n",
    "b = np.repeat(1, 10).reshape(2,-1)\n",
    "\n",
    "np.hstack([a,b]) # hstack is for horizontal stack"
   ]
  },
  {
   "cell_type": "code",
   "execution_count": 48,
   "metadata": {},
   "outputs": [
    {
     "data": {
      "text/plain": [
       "array([1, 1, 1, 2, 2, 2, 3, 3, 3, 1, 2, 3, 1, 2, 3, 1, 2, 3])"
      ]
     },
     "execution_count": 48,
     "metadata": {},
     "output_type": "execute_result"
    }
   ],
   "source": [
    "# Question 10: Create the following pattern without hardcoding. Use only numpy functions and the below input array a.\n",
    "\n",
    "# Input: a = np.array([1,2,3])\n",
    "# Output: array([1, 1, 1, 2, 2, 2, 3, 3, 3, 1, 2, 3, 1, 2, 3, 1, 2, 3])\n",
    "\n",
    "a = np.array([1,2,3])\n",
    "\n",
    "np.hstack((np.repeat(a, 3), np.tile(a, 3)))\n",
    "\n",
    "# repeat = repeates the each element that many times\n",
    "# tile = repeates the whole array that many times\n"
   ]
  },
  {
   "cell_type": "code",
   "execution_count": 50,
   "metadata": {},
   "outputs": [
    {
     "data": {
      "text/plain": [
       "array([2, 4])"
      ]
     },
     "execution_count": 50,
     "metadata": {},
     "output_type": "execute_result"
    }
   ],
   "source": [
    "# Question: Get the common items between a and b\n",
    "\n",
    "# Input: a = np.array([1,2,3,2,3,4,3,4,5,6])\n",
    "#        b = np.array([7,2,10,2,7,4,9,4,9,8])\n",
    "\n",
    "# Output: array([2, 4])\n",
    "\n",
    "a = np.array([1,2,3,2,3,4,3,4,5,6])\n",
    "b = np.array([7,2,10,2,7,4,9,4,9,8])\n",
    "\n",
    "c = np.intersect1d(a,b)\n",
    "c"
   ]
  },
  {
   "cell_type": "code",
   "execution_count": 52,
   "metadata": {},
   "outputs": [
    {
     "data": {
      "text/plain": [
       "array([1, 2, 3, 4])"
      ]
     },
     "execution_count": 52,
     "metadata": {},
     "output_type": "execute_result"
    }
   ],
   "source": [
    "# Question: From array a remove all items present in array b\n",
    "\n",
    "# Input: a = np.array([1,2,3,4,5])\n",
    "#        b = np.array([5,6,7,8,9])\n",
    "\n",
    "# Output: array([1,2,3,4])\n",
    "\n",
    "a = np.array([1,2,3,4,5])\n",
    "b = np.array([5,6,7,8,9])\n",
    "\n",
    "np.setdiff1d(a,b)"
   ]
  },
  {
   "cell_type": "code",
   "execution_count": 53,
   "metadata": {},
   "outputs": [
    {
     "data": {
      "text/plain": [
       "(array([1, 3, 5, 7]),)"
      ]
     },
     "execution_count": 53,
     "metadata": {},
     "output_type": "execute_result"
    }
   ],
   "source": [
    "# Question: Get the positions where elements of a and b match\n",
    "\n",
    "# Input: a = np.array([1,2,3,2,3,4,3,4,5,6])\n",
    "#        b = np.array([7,2,10,2,7,4,9,4,9,8])\n",
    "\n",
    "# Output: (array([1, 3, 5, 7]),)\n",
    "\n",
    "a = np.array([1,2,3,2,3,4,3,4,5,6])\n",
    "b = np.array([7,2,10,2,7,4,9,4,9,8])\n",
    "\n",
    "np.where(a == b)"
   ]
  },
  {
   "cell_type": "code",
   "execution_count": 54,
   "metadata": {},
   "outputs": [
    {
     "data": {
      "text/plain": [
       "array([ 6,  9, 10])"
      ]
     },
     "execution_count": 54,
     "metadata": {},
     "output_type": "execute_result"
    }
   ],
   "source": [
    "# Question: Get all items between 5 and 10 from a.\n",
    "\n",
    "# Input: a = np.array([2, 6, 1, 9, 10, 3, 27])\n",
    "# Output: (array([6, 9, 10]),)\n",
    "\n",
    "a = np.array([2, 6, 1, 9, 10, 3, 27])\n",
    "\n",
    "# Solution\n",
    "\n",
    "a = np.array([2, 6, 1, 9, 10, 3, 27])\n",
    "a[(a >= 5) & (a <= 10)]"
   ]
  },
  {
   "cell_type": "code",
   "execution_count": 58,
   "metadata": {},
   "outputs": [
    {
     "data": {
      "text/plain": [
       "array([6, 7, 9, 8, 9, 7, 5])"
      ]
     },
     "execution_count": 58,
     "metadata": {},
     "output_type": "execute_result"
    }
   ],
   "source": [
    "# Question: Convert the function maxx that works on two scalars, to work on two arrays.\n",
    "# Input:\n",
    "\n",
    "# def maxx(x, y):\n",
    "#     \"\"\"Get the maximum of two items\"\"\"\n",
    "#     if x >= y:\n",
    "#         return x\n",
    "#     else:\n",
    "#         return y\n",
    "\n",
    "# maxx(1, 5)\n",
    "#> 5\n",
    "\n",
    "# Output:\n",
    "# a = np.array([5, 7, 9, 8, 6, 4, 5])\n",
    "# b = np.array([6, 3, 4, 8, 9, 7, 1])\n",
    "# pair_max(a, b)\n",
    "# array([ 6.,  7.,  9.,  8.,  9.,  7.,  5.])\n",
    "\n",
    "a = np.array([5, 7, 9, 8, 6, 4, 5])\n",
    "b = np.array([6, 3, 4, 8, 9, 7, 1])\n",
    "\n",
    "def pair_max(x, y):\n",
    "    \"\"\"Get the element-wise maximum of two arrays\"\"\"\n",
    "    return np.maximum(x, y)\n",
    "\n",
    "pair_max(a,b)"
   ]
  },
  {
   "cell_type": "code",
   "execution_count": 59,
   "metadata": {},
   "outputs": [
    {
     "name": "stdout",
     "output_type": "stream",
     "text": [
      "Original array\n"
     ]
    },
    {
     "data": {
      "text/plain": [
       "array([[0, 1, 2],\n",
       "       [3, 4, 5],\n",
       "       [6, 7, 8]])"
      ]
     },
     "execution_count": 59,
     "metadata": {},
     "output_type": "execute_result"
    }
   ],
   "source": [
    "# Question: Swap columns 1 and 2 in the array arr.\n",
    "\n",
    "# Input:\n",
    "\n",
    "arr = np.arange(9).reshape(3,3)\n",
    "\n",
    "print('Original array')\n",
    "arr"
   ]
  },
  {
   "cell_type": "code",
   "execution_count": null,
   "metadata": {},
   "outputs": [],
   "source": []
  }
 ],
 "metadata": {
  "kernelspec": {
   "display_name": "pennyLane-env",
   "language": "python",
   "name": "python3"
  },
  "language_info": {
   "codemirror_mode": {
    "name": "ipython",
    "version": 3
   },
   "file_extension": ".py",
   "mimetype": "text/x-python",
   "name": "python",
   "nbconvert_exporter": "python",
   "pygments_lexer": "ipython3",
   "version": "3.12.0"
  }
 },
 "nbformat": 4,
 "nbformat_minor": 2
}
